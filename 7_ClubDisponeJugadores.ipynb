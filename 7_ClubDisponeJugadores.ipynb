{
  "cells": [
    {
      "cell_type": "markdown",
      "source": [
        "# Club Dispone Jugadores - \"The Club Benefits Programme\" FIFA"
      ],
      "metadata": {
        "id": "dv1VuQfjgB0l"
      },
      "id": "dv1VuQfjgB0l"
    },
    {
      "cell_type": "markdown",
      "source": [
        "***Librerías***"
      ],
      "metadata": {
        "id": "lZCdBHm2_QNu"
      },
      "id": "lZCdBHm2_QNu"
    },
    {
      "cell_type": "markdown",
      "source": [
        "Se utilizarán las siguientes librerías para crear los datos sintéticos"
      ],
      "metadata": {
        "id": "WSnwYJ6L_UtK"
      },
      "id": "WSnwYJ6L_UtK"
    },
    {
      "cell_type": "code",
      "execution_count": 1,
      "id": "97b3d6da",
      "metadata": {
        "id": "97b3d6da"
      },
      "outputs": [],
      "source": [
        "#Importamos pandas para manejo de dataframes\n",
        "import pandas as pd\n",
        "#Importamos uuid para que solo exista 1 ID\n",
        "import uuid"
      ]
    },
    {
      "cell_type": "markdown",
      "id": "db21c16c",
      "metadata": {
        "id": "db21c16c"
      },
      "source": [
        "**Size**"
      ]
    },
    {
      "cell_type": "markdown",
      "id": "44ce2a03",
      "metadata": {
        "id": "44ce2a03"
      },
      "source": [
        "El tamaño del conjunto de datos será de 32 puntos de datos (puede hacer más, pero el procesamiento puede demorar más). Asigné esta cantidad a una variable constante, que usé en todo momento:"
      ]
    },
    {
      "cell_type": "code",
      "source": [
        "num_para = 5000"
      ],
      "metadata": {
        "id": "rpeYUn44XCGi"
      },
      "id": "rpeYUn44XCGi",
      "execution_count": 2,
      "outputs": []
    },
    {
      "cell_type": "markdown",
      "id": "4f8ba686",
      "metadata": {
        "id": "4f8ba686"
      },
      "source": [
        "***Atributos***"
      ]
    },
    {
      "cell_type": "markdown",
      "id": "17841653",
      "metadata": {
        "id": "17841653"
      },
      "source": [
        "Ingresé lo anterior como una lista de características para inicializar un marco de datos de Pandas:"
      ]
    },
    {
      "cell_type": "code",
      "execution_count": 3,
      "id": "5a145d81",
      "metadata": {
        "id": "5a145d81"
      },
      "outputs": [],
      "source": [
        "# A list of 4 features\n",
        "features = [\n",
        "    #Identificador del Seleccion\n",
        "    \"IdSeleccion\",\n",
        "    #Identificador del Jugador\n",
        "    \"IdJug\",\n",
        "    #Identificador del Club\n",
        "    \"IdClub\",\n",
        "    #Identificador del Confederacion a la que pertenecen\n",
        "    \"IdConf\",\n",
        "    #Identificador del Parametros cumplidos\n",
        "    \"IdPara\",\n",
        "]# Creating a DF for these features\n",
        "df = pd.DataFrame(columns=features)"
      ]
    },
    {
      "cell_type": "markdown",
      "id": "32e7f58f",
      "metadata": {
        "id": "32e7f58f"
      },
      "source": [
        "**Creación de datos**"
      ]
    },
    {
      "cell_type": "markdown",
      "id": "b84da0a2",
      "metadata": {
        "id": "b84da0a2"
      },
      "source": [
        "Algunos atributos anteriores normalmente deberían contener datos desequilibrados. Se puede asumir con seguridad con una investigación rápida, algunas opciones no estarán igualmente representadas. Para un conjunto de datos más realista, estas tendencias deben reflejarse."
      ]
    },
    {
      "cell_type": "markdown",
      "id": "6707781a",
      "metadata": {
        "id": "6707781a"
      },
      "source": [
        "**IDs**"
      ]
    },
    {
      "cell_type": "markdown",
      "id": "57be8b83",
      "metadata": {
        "id": "57be8b83"
      },
      "source": [
        "Para el atributo ID, utilicé la biblioteca uuid para generar una cadena aleatoria de caracteres 20 veces. Luego, lo asigné al atributo ID en el marco de datos."
      ]
    },
    {
      "cell_type": "code",
      "source": [
        "# Definimos en ID la función uuid para el análisis de cada uno de los datos\n",
        "df['IdSeleccion'] = [uuid.uuid4().hex for i in range(num_para)]"
      ],
      "metadata": {
        "id": "IGy4KluwXKWq"
      },
      "id": "IGy4KluwXKWq",
      "execution_count": 4,
      "outputs": []
    },
    {
      "cell_type": "markdown",
      "source": [
        "**ID Jugador**"
      ],
      "metadata": {
        "id": "VBsE_3dTkhHa"
      },
      "id": "VBsE_3dTkhHa"
    },
    {
      "cell_type": "code",
      "source": [
        "# Definimos en ID la función uuid para el análisis de cada uno de los datos\n",
        "df['IdJug'] = [uuid.uuid4().hex for i in range(num_para)]"
      ],
      "metadata": {
        "id": "FmFQdMz3khUb"
      },
      "id": "FmFQdMz3khUb",
      "execution_count": 5,
      "outputs": []
    },
    {
      "cell_type": "markdown",
      "source": [
        "**ID Club**"
      ],
      "metadata": {
        "id": "uc29jFGLkhja"
      },
      "id": "uc29jFGLkhja"
    },
    {
      "cell_type": "code",
      "source": [
        "# Definimos en ID la función uuid para el análisis de cada uno de los datos\n",
        "df['IdClub'] = [uuid.uuid4().hex for i in range(num_para)]"
      ],
      "metadata": {
        "id": "ABwA-Vbpkhsa"
      },
      "id": "ABwA-Vbpkhsa",
      "execution_count": 6,
      "outputs": []
    },
    {
      "cell_type": "markdown",
      "source": [
        "**ID Confederación**"
      ],
      "metadata": {
        "id": "wGyQGgk9kh3K"
      },
      "id": "wGyQGgk9kh3K"
    },
    {
      "cell_type": "code",
      "source": [
        "# Definimos en ID la función uuid para el análisis de cada uno de los datos\n",
        "df['IdConf'] = [uuid.uuid4().hex for i in range(num_para)]"
      ],
      "metadata": {
        "id": "CJ5u_baKkh-J"
      },
      "id": "CJ5u_baKkh-J",
      "execution_count": 7,
      "outputs": []
    },
    {
      "cell_type": "markdown",
      "source": [
        "**ID Parámetro**"
      ],
      "metadata": {
        "id": "-h_wdXxkktna"
      },
      "id": "-h_wdXxkktna"
    },
    {
      "cell_type": "code",
      "source": [
        "# Definimos en ID la función uuid para el análisis de cada uno de los datos\n",
        "df['IdPara'] = [uuid.uuid4().hex for i in range(num_para)]"
      ],
      "metadata": {
        "id": "Uq7iQqPMktBb"
      },
      "id": "Uq7iQqPMktBb",
      "execution_count": 8,
      "outputs": []
    },
    {
      "cell_type": "markdown",
      "id": "545e8963",
      "metadata": {
        "id": "545e8963"
      },
      "source": [
        "**Saving the Dataset**"
      ]
    },
    {
      "cell_type": "markdown",
      "id": "743e5aed",
      "metadata": {
        "id": "743e5aed"
      },
      "source": [
        "Ahora que los datos están completos y si estaba codificando, siéntase libre de ver el marco de datos antes de decidir guardarlo. Si todo se ve bien, guarde el marco de datos como un archivo .csv con este simple comando:"
      ]
    },
    {
      "cell_type": "code",
      "execution_count": 9,
      "id": "b746f91d",
      "metadata": {
        "id": "b746f91d"
      },
      "outputs": [],
      "source": [
        "df.to_csv('dataset_ClubDisponeJugadores.csv')"
      ]
    }
  ],
  "metadata": {
    "kernelspec": {
      "display_name": "Python 3 (ipykernel)",
      "language": "python",
      "name": "python3"
    },
    "language_info": {
      "codemirror_mode": {
        "name": "ipython",
        "version": 3
      },
      "file_extension": ".py",
      "mimetype": "text/x-python",
      "name": "python",
      "nbconvert_exporter": "python",
      "pygments_lexer": "ipython3",
      "version": "3.9.7"
    },
    "colab": {
      "provenance": []
    }
  },
  "nbformat": 4,
  "nbformat_minor": 5
}