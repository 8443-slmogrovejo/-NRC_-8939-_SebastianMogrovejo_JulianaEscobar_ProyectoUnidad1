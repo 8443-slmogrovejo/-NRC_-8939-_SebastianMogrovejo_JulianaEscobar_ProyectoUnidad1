{
  "cells": [
    {
      "cell_type": "markdown",
      "source": [
        "# ROL - \"The Club Benefits Programme\" FIFA"
      ],
      "metadata": {
        "id": "dv1VuQfjgB0l"
      },
      "id": "dv1VuQfjgB0l"
    },
    {
      "cell_type": "markdown",
      "source": [
        "***Librerías***"
      ],
      "metadata": {
        "id": "lZCdBHm2_QNu"
      },
      "id": "lZCdBHm2_QNu"
    },
    {
      "cell_type": "markdown",
      "source": [
        "Se utilizarán las siguientes librerías para crear los datos sintéticos"
      ],
      "metadata": {
        "id": "WSnwYJ6L_UtK"
      },
      "id": "WSnwYJ6L_UtK"
    },
    {
      "cell_type": "code",
      "execution_count": 1,
      "id": "97b3d6da",
      "metadata": {
        "id": "97b3d6da"
      },
      "outputs": [],
      "source": [
        "#Importamos pandas para manejo de dataframes\n",
        "import pandas as pd\n",
        "#Importamos uuid para que solo exista 1 ID\n",
        "import uuid\n",
        "#Importamos random para la asignacion de datos randómicos\n",
        "import random"
      ]
    },
    {
      "cell_type": "markdown",
      "id": "db21c16c",
      "metadata": {
        "id": "db21c16c"
      },
      "source": [
        "**Size**"
      ]
    },
    {
      "cell_type": "markdown",
      "id": "44ce2a03",
      "metadata": {
        "id": "44ce2a03"
      },
      "source": [
        "El tamaño del conjunto de datos será de 32 puntos de datos (puede hacer más, pero el procesamiento puede demorar más). Asigné esta cantidad a una variable constante, que usé en todo momento:"
      ]
    },
    {
      "cell_type": "code",
      "source": [
        "num_rol = 3"
      ],
      "metadata": {
        "id": "rpeYUn44XCGi"
      },
      "id": "rpeYUn44XCGi",
      "execution_count": 2,
      "outputs": []
    },
    {
      "cell_type": "markdown",
      "id": "4f8ba686",
      "metadata": {
        "id": "4f8ba686"
      },
      "source": [
        "***Atributos***"
      ]
    },
    {
      "cell_type": "markdown",
      "id": "17841653",
      "metadata": {
        "id": "17841653"
      },
      "source": [
        "Ingresé lo anterior como una lista de características para inicializar un marco de datos de Pandas:"
      ]
    },
    {
      "cell_type": "code",
      "execution_count": 3,
      "id": "5a145d81",
      "metadata": {
        "id": "5a145d81"
      },
      "outputs": [],
      "source": [
        "# A list of 4 features\n",
        "features = [\n",
        "    #Identificador del Rol\n",
        "    \"IdRol\",\n",
        "    #Tipo o Nombre del Rol\n",
        "    \"TipoRol\",\n",
        "    #Estado de Actividad\n",
        "    \"EstadoRol\",\n",
        "    #Descripcion del Rol\n",
        "    \"DescripRol\"\n",
        "]# Creating a DF for these features\n",
        "df = pd.DataFrame(columns=features)"
      ]
    },
    {
      "cell_type": "markdown",
      "id": "32e7f58f",
      "metadata": {
        "id": "32e7f58f"
      },
      "source": [
        "**Creación de datos**"
      ]
    },
    {
      "cell_type": "markdown",
      "id": "b84da0a2",
      "metadata": {
        "id": "b84da0a2"
      },
      "source": [
        "Algunos atributos anteriores normalmente deberían contener datos desequilibrados. Se puede asumir con seguridad con una investigación rápida, algunas opciones no estarán igualmente representadas. Para un conjunto de datos más realista, estas tendencias deben reflejarse."
      ]
    },
    {
      "cell_type": "markdown",
      "id": "6707781a",
      "metadata": {
        "id": "6707781a"
      },
      "source": [
        "**IDs**"
      ]
    },
    {
      "cell_type": "markdown",
      "id": "57be8b83",
      "metadata": {
        "id": "57be8b83"
      },
      "source": [
        "Para el atributo ID, utilicé la biblioteca uuid para generar una cadena aleatoria de caracteres 20 veces. Luego, lo asigné al atributo ID en el marco de datos."
      ]
    },
    {
      "cell_type": "code",
      "source": [
        "# Definimos en ID la función uuid para el análisis de cada uno de los 5000 datos\n",
        "df['IdRol'] = [uuid.uuid4().hex for i in range(num_rol)]"
      ],
      "metadata": {
        "id": "IGy4KluwXKWq"
      },
      "id": "IGy4KluwXKWq",
      "execution_count": 4,
      "outputs": []
    },
    {
      "cell_type": "markdown",
      "source": [
        "***Tipo de Rol***"
      ],
      "metadata": {
        "id": "bQ14xZLEYi9c"
      },
      "id": "bQ14xZLEYi9c"
    },
    {
      "cell_type": "code",
      "source": [
        "#Definimos 3 tipos de roles dentro del sistema\n",
        "df['TipoRol'] = ['Administrador','Trabajador','Técnico']"
      ],
      "metadata": {
        "id": "oWAjcipiYh8N"
      },
      "id": "oWAjcipiYh8N",
      "execution_count": 5,
      "outputs": []
    },
    {
      "cell_type": "markdown",
      "source": [
        "***Estado de Rol***"
      ],
      "metadata": {
        "id": "l2T_7-Wug3yM"
      },
      "id": "l2T_7-Wug3yM"
    },
    {
      "cell_type": "code",
      "source": [
        "choice = [True, False]\n",
        "df['EstadoRol'] = random.choices(\n",
        "    choice, \n",
        "    k=num_rol\n",
        ")"
      ],
      "metadata": {
        "id": "fnrndO9uhA3d"
      },
      "id": "fnrndO9uhA3d",
      "execution_count": 6,
      "outputs": []
    },
    {
      "cell_type": "markdown",
      "source": [
        "***Descripcion de Rol***"
      ],
      "metadata": {
        "id": "G7kZ_dO1g_Cs"
      },
      "id": "G7kZ_dO1g_Cs"
    },
    {
      "cell_type": "code",
      "source": [
        "df['DescripRol'] = ['Permisos sobre todo el sistema','Acceso solo a la informacion y resultados de cada jugador y agente financiero','Acceso de desarrollador']"
      ],
      "metadata": {
        "id": "gahPc_0ThBN8"
      },
      "id": "gahPc_0ThBN8",
      "execution_count": 7,
      "outputs": []
    },
    {
      "cell_type": "markdown",
      "id": "545e8963",
      "metadata": {
        "id": "545e8963"
      },
      "source": [
        "**Saving the Dataset**"
      ]
    },
    {
      "cell_type": "markdown",
      "id": "743e5aed",
      "metadata": {
        "id": "743e5aed"
      },
      "source": [
        "Ahora que los datos están completos y si estaba codificando, siéntase libre de ver el marco de datos antes de decidir guardarlo. Si todo se ve bien, guarde el marco de datos como un archivo .csv con este simple comando:"
      ]
    },
    {
      "cell_type": "code",
      "execution_count": 8,
      "id": "b746f91d",
      "metadata": {
        "id": "b746f91d"
      },
      "outputs": [],
      "source": [
        "df.to_csv('dataset_Rol.csv')"
      ]
    }
  ],
  "metadata": {
    "kernelspec": {
      "display_name": "Python 3 (ipykernel)",
      "language": "python",
      "name": "python3"
    },
    "language_info": {
      "codemirror_mode": {
        "name": "ipython",
        "version": 3
      },
      "file_extension": ".py",
      "mimetype": "text/x-python",
      "name": "python",
      "nbconvert_exporter": "python",
      "pygments_lexer": "ipython3",
      "version": "3.9.7"
    },
    "colab": {
      "provenance": []
    }
  },
  "nbformat": 4,
  "nbformat_minor": 5
}